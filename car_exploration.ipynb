{
 "cells": [
  {
   "cell_type": "markdown",
   "metadata": {},
   "source": [
    "# Car Features, Price, and Popularity\n",
    "## by Robert Bruton\n",
    "\n",
    "## Preliminary Wrangling and Exploratory Analysis\n",
    "\n",
    "This dataset is the \"Car Features and MSRP\" dataset by CooperUnion on Kaggle. This dataset features 16 columns of variables for almost 12,000 rows of observations. The data was originally scraped from Edmunds and Twitter. This dataset can be found at: https://www.kaggle.com/CooperUnion/cardataset "
   ]
  },
  {
   "cell_type": "code",
   "execution_count": 61,
   "metadata": {},
   "outputs": [],
   "source": [
    "# import all packages and set plots to be embedded inline\n",
    "import numpy as np\n",
    "import pandas as pd\n",
    "import matplotlib.pyplot as plt\n",
    "import seaborn as sb\n",
    "\n",
    "%matplotlib inline"
   ]
  },
  {
   "cell_type": "code",
   "execution_count": 62,
   "metadata": {},
   "outputs": [],
   "source": [
    "# Import csv file of dataset into pandas df\n",
    "\n",
    "cars = pd.read_csv('car_data.csv')"
   ]
  },
  {
   "cell_type": "code",
   "execution_count": 63,
   "metadata": {},
   "outputs": [],
   "source": [
    "# Define function to inspect data frames. Prints first few lines, determines size/shape of data frame,\n",
    "# shows descriptive statistics, shows data types, shows missing or incomplete data, check for duplicate data.\n",
    "\n",
    "def inspect_df(df):\n",
    "    print('Header:')\n",
    "    print('{}'.format(df.head()))\n",
    "    print()\n",
    "    print('Shape: {}'.format(df.shape))\n",
    "    print()\n",
    "    print('Statistics:')\n",
    "    print('{}'.format(df.describe()))\n",
    "    print()\n",
    "    print('Info:')\n",
    "    print('{}'.format(df.info()))"
   ]
  },
  {
   "cell_type": "code",
   "execution_count": 64,
   "metadata": {
    "scrolled": false
   },
   "outputs": [
    {
     "name": "stdout",
     "output_type": "stream",
     "text": [
      "Header:\n",
      "  Make       Model  Year             Engine Fuel Type  Engine HP  \\\n",
      "0  BMW  1 Series M  2011  premium unleaded (required)      335.0   \n",
      "1  BMW    1 Series  2011  premium unleaded (required)      300.0   \n",
      "2  BMW    1 Series  2011  premium unleaded (required)      300.0   \n",
      "3  BMW    1 Series  2011  premium unleaded (required)      230.0   \n",
      "4  BMW    1 Series  2011  premium unleaded (required)      230.0   \n",
      "\n",
      "   Engine Cylinders Transmission Type     Driven_Wheels  Number of Doors  \\\n",
      "0               6.0            MANUAL  rear wheel drive              2.0   \n",
      "1               6.0            MANUAL  rear wheel drive              2.0   \n",
      "2               6.0            MANUAL  rear wheel drive              2.0   \n",
      "3               6.0            MANUAL  rear wheel drive              2.0   \n",
      "4               6.0            MANUAL  rear wheel drive              2.0   \n",
      "\n",
      "                         Market Category Vehicle Size Vehicle Style  \\\n",
      "0  Factory Tuner,Luxury,High-Performance      Compact         Coupe   \n",
      "1                     Luxury,Performance      Compact   Convertible   \n",
      "2                Luxury,High-Performance      Compact         Coupe   \n",
      "3                     Luxury,Performance      Compact         Coupe   \n",
      "4                                 Luxury      Compact   Convertible   \n",
      "\n",
      "   highway MPG  city mpg  Popularity   MSRP  \n",
      "0           26        19        3916  46135  \n",
      "1           28        19        3916  40650  \n",
      "2           28        20        3916  36350  \n",
      "3           28        18        3916  29450  \n",
      "4           28        18        3916  34500  \n",
      "\n",
      "Shape: (11914, 16)\n",
      "\n",
      "Statistics:\n",
      "               Year    Engine HP  Engine Cylinders  Number of Doors  \\\n",
      "count  11914.000000  11845.00000      11884.000000     11908.000000   \n",
      "mean    2010.384338    249.38607          5.628829         3.436093   \n",
      "std        7.579740    109.19187          1.780559         0.881315   \n",
      "min     1990.000000     55.00000          0.000000         2.000000   \n",
      "25%     2007.000000    170.00000          4.000000         2.000000   \n",
      "50%     2015.000000    227.00000          6.000000         4.000000   \n",
      "75%     2016.000000    300.00000          6.000000         4.000000   \n",
      "max     2017.000000   1001.00000         16.000000         4.000000   \n",
      "\n",
      "        highway MPG      city mpg    Popularity          MSRP  \n",
      "count  11914.000000  11914.000000  11914.000000  1.191400e+04  \n",
      "mean      26.637485     19.733255   1554.911197  4.059474e+04  \n",
      "std        8.863001      8.987798   1441.855347  6.010910e+04  \n",
      "min       12.000000      7.000000      2.000000  2.000000e+03  \n",
      "25%       22.000000     16.000000    549.000000  2.100000e+04  \n",
      "50%       26.000000     18.000000   1385.000000  2.999500e+04  \n",
      "75%       30.000000     22.000000   2009.000000  4.223125e+04  \n",
      "max      354.000000    137.000000   5657.000000  2.065902e+06  \n",
      "\n",
      "Info:\n",
      "<class 'pandas.core.frame.DataFrame'>\n",
      "RangeIndex: 11914 entries, 0 to 11913\n",
      "Data columns (total 16 columns):\n",
      "Make                 11914 non-null object\n",
      "Model                11914 non-null object\n",
      "Year                 11914 non-null int64\n",
      "Engine Fuel Type     11911 non-null object\n",
      "Engine HP            11845 non-null float64\n",
      "Engine Cylinders     11884 non-null float64\n",
      "Transmission Type    11914 non-null object\n",
      "Driven_Wheels        11914 non-null object\n",
      "Number of Doors      11908 non-null float64\n",
      "Market Category      8172 non-null object\n",
      "Vehicle Size         11914 non-null object\n",
      "Vehicle Style        11914 non-null object\n",
      "highway MPG          11914 non-null int64\n",
      "city mpg             11914 non-null int64\n",
      "Popularity           11914 non-null int64\n",
      "MSRP                 11914 non-null int64\n",
      "dtypes: float64(3), int64(5), object(8)\n",
      "memory usage: 1.5+ MB\n",
      "None\n"
     ]
    }
   ],
   "source": [
    "# Use inspect_df on cars data frame\n",
    "\n",
    "inspect_df(cars)"
   ]
  },
  {
   "cell_type": "code",
   "execution_count": 65,
   "metadata": {},
   "outputs": [],
   "source": [
    "# Change column headers\n",
    "\n",
    "cars.columns = ['make', 'model', 'year', 'fuel', 'hp', 'cylinders', 'trans', 'drive', 'doors', 'category', 'vsize', 'body',\n",
    "               'hwy_mpg', 'city_mpg', 'popularity', 'price']"
   ]
  },
  {
   "cell_type": "code",
   "execution_count": 66,
   "metadata": {},
   "outputs": [],
   "source": [
    "# Drop market category column\n",
    "\n",
    "cars = cars.drop(columns = 'category')"
   ]
  },
  {
   "cell_type": "code",
   "execution_count": 67,
   "metadata": {},
   "outputs": [],
   "source": [
    "# Drop rows with important missing data (market category not important)\n",
    "\n",
    "cars = cars.dropna()"
   ]
  },
  {
   "cell_type": "code",
   "execution_count": 68,
   "metadata": {},
   "outputs": [],
   "source": [
    "# Change data types of some columns\n",
    "\n",
    "cars.make = cars.make.astype('category')\n",
    "cars.fuel = cars.fuel.astype('category')\n",
    "cars.hp = cars.hp.astype('int64')\n",
    "cars.cylinders = cars.cylinders.astype('int64')\n",
    "cars.trans = cars.trans.astype('category')\n",
    "cars.drive = cars.drive.astype('category')\n",
    "cars.doors = cars.doors.astype('category')\n",
    "cars.vsize = cars.vsize.astype('category')\n",
    "cars.body = cars.body.astype('category')"
   ]
  },
  {
   "cell_type": "code",
   "execution_count": 69,
   "metadata": {},
   "outputs": [
    {
     "name": "stdout",
     "output_type": "stream",
     "text": [
      "Header:\n",
      "  make       model  year                         fuel   hp  cylinders   trans  \\\n",
      "0  BMW  1 Series M  2011  premium unleaded (required)  335          6  MANUAL   \n",
      "1  BMW    1 Series  2011  premium unleaded (required)  300          6  MANUAL   \n",
      "2  BMW    1 Series  2011  premium unleaded (required)  300          6  MANUAL   \n",
      "3  BMW    1 Series  2011  premium unleaded (required)  230          6  MANUAL   \n",
      "4  BMW    1 Series  2011  premium unleaded (required)  230          6  MANUAL   \n",
      "\n",
      "              drive doors    vsize         body  hwy_mpg  city_mpg  \\\n",
      "0  rear wheel drive   2.0  Compact        Coupe       26        19   \n",
      "1  rear wheel drive   2.0  Compact  Convertible       28        19   \n",
      "2  rear wheel drive   2.0  Compact        Coupe       28        20   \n",
      "3  rear wheel drive   2.0  Compact        Coupe       28        18   \n",
      "4  rear wheel drive   2.0  Compact  Convertible       28        18   \n",
      "\n",
      "   popularity  price  \n",
      "0        3916  46135  \n",
      "1        3916  40650  \n",
      "2        3916  36350  \n",
      "3        3916  29450  \n",
      "4        3916  34500  \n",
      "\n",
      "Shape: (11812, 15)\n",
      "\n",
      "Statistics:\n",
      "               year            hp     cylinders       hwy_mpg      city_mpg  \\\n",
      "count  11812.000000  11812.000000  11812.000000  11812.000000  11812.000000   \n",
      "mean    2010.361581    249.504487      5.649424     26.320945     19.328141   \n",
      "std        7.594647    109.206947      1.751646      7.443589      6.527734   \n",
      "min     1990.000000     55.000000      0.000000     12.000000      7.000000   \n",
      "25%     2007.000000    170.000000      4.000000     22.000000     16.000000   \n",
      "50%     2015.000000    227.000000      6.000000     26.000000     18.000000   \n",
      "75%     2016.000000    300.000000      6.000000     30.000000     22.000000   \n",
      "max     2017.000000   1001.000000     16.000000    354.000000    137.000000   \n",
      "\n",
      "         popularity         price  \n",
      "count  11812.000000  1.181200e+04  \n",
      "mean    1553.679902  4.055994e+04  \n",
      "std     1440.067820  6.028413e+04  \n",
      "min        2.000000  2.000000e+03  \n",
      "25%      549.000000  2.099000e+04  \n",
      "50%     1385.000000  2.997000e+04  \n",
      "75%     2009.000000  4.220500e+04  \n",
      "max     5657.000000  2.065902e+06  \n",
      "\n",
      "Info:\n",
      "<class 'pandas.core.frame.DataFrame'>\n",
      "Int64Index: 11812 entries, 0 to 11913\n",
      "Data columns (total 15 columns):\n",
      "make          11812 non-null category\n",
      "model         11812 non-null object\n",
      "year          11812 non-null int64\n",
      "fuel          11812 non-null category\n",
      "hp            11812 non-null int64\n",
      "cylinders     11812 non-null int64\n",
      "trans         11812 non-null category\n",
      "drive         11812 non-null category\n",
      "doors         11812 non-null category\n",
      "vsize         11812 non-null category\n",
      "body          11812 non-null category\n",
      "hwy_mpg       11812 non-null int64\n",
      "city_mpg      11812 non-null int64\n",
      "popularity    11812 non-null int64\n",
      "price         11812 non-null int64\n",
      "dtypes: category(7), int64(7), object(1)\n",
      "memory usage: 914.6+ KB\n",
      "None\n"
     ]
    }
   ],
   "source": [
    "# Use inspect_df on cars data frame again\n",
    "\n",
    "inspect_df(cars)"
   ]
  },
  {
   "cell_type": "markdown",
   "metadata": {},
   "source": [
    "### What is the structure of your dataset?\n",
    "\n",
    "After cleaning, there are 11812 rows of observations with 15 columns of variables and no missing values. The variables contain 7 categoricals, 1 string, and 7 integer numerics. The only categorical variable that has an order is the vsize (vehicle size) which contains compact (smallest), midsize, and large (largest).\n",
    "\n",
    "### What is/are the main feature(s) of interest in your dataset?\n",
    "\n",
    "I am mostly interested in which features have the strongest correlation with price.\n",
    "\n",
    "### What features in the dataset do you think will help support your investigation into your feature(s) of interest?\n",
    "\n",
    "I think that the price will be strongly affected by hp, size, and make. I hypothesize that make will be the best predictor of price."
   ]
  },
  {
   "cell_type": "markdown",
   "metadata": {},
   "source": [
    "## Univariate Exploration\n",
    "\n",
    "Start by looking at distribution of price"
   ]
  },
  {
   "cell_type": "code",
   "execution_count": 72,
   "metadata": {},
   "outputs": [
    {
     "data": {
      "image/png": "[encoded data removed]",
      "text/plain": [
       "<Figure size 720x360 with 1 Axes>"
      ]
     },
     "metadata": {},
     "output_type": "display_data"
    }
   ],
   "source": [
    "# Histogram of price\n",
    "\n",
    "plt.figure(figsize=[10, 5])\n",
    "plt.hist(data = cars, x = 'price', bins = 30)\n",
    "plt.xlabel('Price ($)');"
   ]
  },
  {
   "cell_type": "markdown",
   "metadata": {},
   "source": [
    "The data is very skewed due to the max price outlier. Set x axis limit to focus on values under 50,000"
   ]
  },
  {
   "cell_type": "code",
   "execution_count": 79,
   "metadata": {},
   "outputs": [
    {
     "data": {
      "image/png": "[encoded data removed]",
      "text/plain": [
       "<Figure size 720x360 with 1 Axes>"
      ]
     },
     "metadata": {},
     "output_type": "display_data"
    }
   ],
   "source": [
    "# Histogram of price\n",
    "\n",
    "bins = np.arange(0, 50000, 2000)\n",
    "plt.figure(figsize=[10, 5])\n",
    "plt.hist(data = cars, x = 'price', bins = bins)\n",
    "plt.xlim(0, 50000)\n",
    "plt.xlabel('Price ($)');"
   ]
  },
  {
   "cell_type": "markdown",
   "metadata": {},
   "source": [
    "There are a lot of cars in the 2000 to 4000 range, a couple outliers close to 200,000, and the majority of data falling in a fairly normal distribution between 10,000 and 50,000. Let's look at a box plot of the distribution."
   ]
  },
  {
   "cell_type": "code",
   "execution_count": 88,
   "metadata": {},
   "outputs": [
    {
     "data": {
      "image/png": "[encoded data removed]",
      "text/plain": [
       "<Figure size 720x360 with 1 Axes>"
      ]
     },
     "metadata": {},
     "output_type": "display_data"
    }
   ],
   "source": [
    "# Box plot of price\n",
    "\n",
    "plt.figure(figsize=[10, 5])\n",
    "plt.boxplot(cars.price, vert=False)\n",
    "plt.xlim(0, 75000)\n",
    "plt.xlabel('Price ($)');"
   ]
  },
  {
   "cell_type": "markdown",
   "metadata": {},
   "source": [
    "The median of the price is around 30,000, with half of the data lying between about 20,000 and 40,000 and anything above about 75,000 is an outlier."
   ]
  },
  {
   "cell_type": "markdown",
   "metadata": {},
   "source": [
    "### Discuss the distribution(s) of your variable(s) of interest. Were there any unusual points? Did you need to perform any transformations?\n",
    "\n",
    "> Your answer here!\n",
    "\n",
    "### Of the features you investigated, were there any unusual distributions? Did you perform any operations on the data to tidy, adjust, or change the form of the data? If so, why did you do this?\n",
    "\n",
    "> Your answer here!"
   ]
  },
  {
   "cell_type": "markdown",
   "metadata": {},
   "source": [
    "## Bivariate Exploration\n",
    "\n",
    "> In this section, investigate relationships between pairs of variables in your\n",
    "data. Make sure the variables that you cover here have been introduced in some\n",
    "fashion in the previous section (univariate exploration)."
   ]
  },
  {
   "cell_type": "code",
   "execution_count": null,
   "metadata": {},
   "outputs": [],
   "source": []
  },
  {
   "cell_type": "markdown",
   "metadata": {},
   "source": [
    "### Talk about some of the relationships you observed in this part of the investigation. How did the feature(s) of interest vary with other features in the dataset?\n",
    "\n",
    "> Your answer here!\n",
    "\n",
    "### Did you observe any interesting relationships between the other features (not the main feature(s) of interest)?\n",
    "\n",
    "> Your answer here!"
   ]
  },
  {
   "cell_type": "markdown",
   "metadata": {},
   "source": [
    "## Multivariate Exploration\n",
    "\n",
    "> Create plots of three or more variables to investigate your data even\n",
    "further. Make sure that your investigations are justified, and follow from\n",
    "your work in the previous sections."
   ]
  },
  {
   "cell_type": "code",
   "execution_count": null,
   "metadata": {},
   "outputs": [],
   "source": []
  },
  {
   "cell_type": "markdown",
   "metadata": {},
   "source": [
    "### Talk about some of the relationships you observed in this part of the investigation. Were there features that strengthened each other in terms of looking at your feature(s) of interest?\n",
    "\n",
    "> Your answer here!\n",
    "\n",
    "### Were there any interesting or surprising interactions between features?\n",
    "\n",
    "> Your answer here!"
   ]
  },
  {
   "cell_type": "markdown",
   "metadata": {},
   "source": [
    "> At the end of your report, make sure that you export the notebook as an\n",
    "html file from the `File > Download as... > HTML` menu. Make sure you keep\n",
    "track of where the exported file goes, so you can put it in the same folder\n",
    "as this notebook for project submission. Also, make sure you remove all of\n",
    "the quote-formatted guide notes like this one before you finish your report!"
   ]
  },
  {
   "cell_type": "code",
   "execution_count": null,
   "metadata": {},
   "outputs": [],
   "source": []
  }
 ],
 "metadata": {
  "kernelspec": {
   "display_name": "Python [default]",
   "language": "python",
   "name": "python3"
  },
  "language_info": {
   "codemirror_mode": {
    "name": "ipython",
    "version": 3
   },
   "file_extension": ".py",
   "mimetype": "text/x-python",
   "name": "python",
   "nbconvert_exporter": "python",
   "pygments_lexer": "ipython3",
   "version": "3.6.6"
  }
 },
 "nbformat": 4,
 "nbformat_minor": 2
}
