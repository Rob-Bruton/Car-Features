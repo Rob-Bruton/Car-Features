{
 "cells": [
  {
   "cell_type": "markdown",
   "metadata": {},
   "source": [
    "# Car Price Prediction Model\n",
    "\n",
    "This dataset is from the \"Car Features and MSRP\" dataset by CooperUnion on Kaggle. The original dataset features 16 columns of variables for almost 12,000 rows of observations. The data was originally scraped from Edmunds and Twitter. This dataset can be found at: https://www.kaggle.com/CooperUnion/cardataset. The data has been previously cleaned and manipulated as part of a previous project where the dataset was explored and feature correlations were investigated. The current version of the dataset contains 25 columns and 9197 rows."
   ]
  },
  {
   "cell_type": "markdown",
   "metadata": {},
   "source": [
    "# Import and Prepare Dataset"
   ]
  },
  {
   "cell_type": "code",
   "execution_count": 1,
   "metadata": {},
   "outputs": [],
   "source": [
    "# Import some packages and set plots to be embedded inline\n",
    "import numpy as np\n",
    "import pandas as pd\n",
    "from pandas.api.types import CategoricalDtype\n",
    "import matplotlib.pyplot as plt\n",
    "import seaborn as sb\n",
    "\n",
    "%matplotlib inline"
   ]
  },
  {
   "cell_type": "code",
   "execution_count": 2,
   "metadata": {},
   "outputs": [],
   "source": [
    "# Import csv file of dataset into pandas df and preview\n",
    "\n",
    "cars = pd.read_csv('cars_final.csv')\n",
    "cars = cars.drop(columns = 'Unnamed: 0')"
   ]
  },
  {
   "cell_type": "code",
   "execution_count": 3,
   "metadata": {},
   "outputs": [
    {
     "name": "stdout",
     "output_type": "stream",
     "text": [
      "Header:\n",
      "  make       model  year               fuel   hp  cylinders   trans  \\\n",
      "0  BMW  1 Series M  2011  premium unleaded   335          6  manual   \n",
      "1  BMW    1 Series  2011  premium unleaded   300          6  manual   \n",
      "2  BMW    1 Series  2011  premium unleaded   300          6  manual   \n",
      "3  BMW    1 Series  2011  premium unleaded   230          6  manual   \n",
      "4  BMW    1 Series  2011  premium unleaded   230          6  manual   \n",
      "\n",
      "              drive  doors    vsize  ... comb_mpg    log_hp  log_hwy_mpg  \\\n",
      "0  rear wheel drive      2  Compact  ...     22.5  2.525045     1.414973   \n",
      "1  rear wheel drive      2  Compact  ...     23.5  2.477121     1.447158   \n",
      "2  rear wheel drive      2  Compact  ...     24.0  2.477121     1.447158   \n",
      "3  rear wheel drive      2  Compact  ...     23.0  2.361728     1.447158   \n",
      "4  rear wheel drive      2  Compact  ...     23.0  2.361728     1.447158   \n",
      "\n",
      "   log_city_mpg  log_comb_mpg  log_popularity  log_price         ppp  \\\n",
      "0      1.278754      1.352183        3.592843   4.664031  137.716418   \n",
      "1      1.278754      1.371068        3.592843   4.609061  135.500000   \n",
      "2      1.301030      1.380211        3.592843   4.560504  121.166667   \n",
      "3      1.255273      1.361728        3.592843   4.469085  128.043478   \n",
      "4      1.255273      1.361728        3.592843   4.537819  150.000000   \n",
      "\n",
      "   mpg_ratio  mpg_per_hp  \n",
      "0   1.368421    0.067164  \n",
      "1   1.473684    0.078333  \n",
      "2   1.400000    0.080000  \n",
      "3   1.555556    0.100000  \n",
      "4   1.555556    0.100000  \n",
      "\n",
      "[5 rows x 25 columns]\n",
      "\n",
      "Shape: (9197, 25)\n",
      "\n",
      "Statistics:\n",
      "              year           hp    cylinders        doors      hwy_mpg  \\\n",
      "count  9197.000000  9197.000000  9197.000000  9197.000000  9197.000000   \n",
      "mean   2012.839948   239.385561     5.342068     3.592476    27.448625   \n",
      "std       4.491115    80.144919     1.411283     0.789131     7.631527   \n",
      "min    2001.000000    74.000000     0.000000     2.000000    13.000000   \n",
      "25%    2010.000000   175.000000     4.000000     4.000000    23.000000   \n",
      "50%    2015.000000   237.000000     6.000000     4.000000    27.000000   \n",
      "75%    2016.000000   292.000000     6.000000     4.000000    31.000000   \n",
      "max    2017.000000   707.000000    10.000000     4.000000   354.000000   \n",
      "\n",
      "          city_mpg   popularity         price     comb_mpg       log_hp  \\\n",
      "count  9197.000000  9197.000000   9197.000000  9197.000000  9197.000000   \n",
      "mean     20.273024  1574.347505  33420.121779    23.860824     2.354574   \n",
      "std       6.790177  1436.753110  12579.714860     6.888741     0.147841   \n",
      "min      10.000000    21.000000   9299.000000    11.500000     1.869232   \n",
      "25%      16.000000   549.000000  24165.000000    19.500000     2.243038   \n",
      "50%      19.000000  1385.000000  31040.000000    23.000000     2.374748   \n",
      "75%      23.000000  2009.000000  40445.000000    27.000000     2.465383   \n",
      "max     137.000000  5657.000000  75000.000000   189.000000     2.849419   \n",
      "\n",
      "       log_hwy_mpg  log_city_mpg  log_comb_mpg  log_popularity    log_price  \\\n",
      "count  9197.000000   9197.000000   9197.000000     9197.000000  9197.000000   \n",
      "mean      1.426093      1.290547      1.364050        3.010463     4.494422   \n",
      "std       0.101634      0.112987      0.105296        0.446193     0.160639   \n",
      "min       1.113943      1.000000      1.060698        1.322219     3.968436   \n",
      "25%       1.361728      1.204120      1.290035        2.739572     4.383187   \n",
      "50%       1.431364      1.278754      1.361728        3.141450     4.491922   \n",
      "75%       1.491362      1.361728      1.431364        3.302980     4.606865   \n",
      "max       2.549003      2.136721      2.276462        3.752586     4.875061   \n",
      "\n",
      "               ppp    mpg_ratio   mpg_per_hp  \n",
      "count  9197.000000  9197.000000  9197.000000  \n",
      "mean    141.277584     1.372781     0.118153  \n",
      "std      31.577367     0.181985     0.072449  \n",
      "min      72.392857     0.810219     0.024045  \n",
      "25%     119.580052     1.312500     0.069697  \n",
      "50%     136.877049     1.375000     0.094714  \n",
      "75%     157.692308     1.440000     0.151351  \n",
      "max     311.711712    14.750000     0.846429  \n",
      "\n",
      "Info:\n",
      "<class 'pandas.core.frame.DataFrame'>\n",
      "RangeIndex: 9197 entries, 0 to 9196\n",
      "Data columns (total 25 columns):\n",
      "make              9197 non-null object\n",
      "model             9197 non-null object\n",
      "year              9197 non-null int64\n",
      "fuel              9197 non-null object\n",
      "hp                9197 non-null int64\n",
      "cylinders         9197 non-null int64\n",
      "trans             9197 non-null object\n",
      "drive             9197 non-null object\n",
      "doors             9197 non-null int64\n",
      "vsize             9197 non-null object\n",
      "body              9197 non-null object\n",
      "hwy_mpg           9197 non-null int64\n",
      "city_mpg          9197 non-null int64\n",
      "popularity        9197 non-null int64\n",
      "price             9197 non-null int64\n",
      "comb_mpg          9197 non-null float64\n",
      "log_hp            9197 non-null float64\n",
      "log_hwy_mpg       9197 non-null float64\n",
      "log_city_mpg      9197 non-null float64\n",
      "log_comb_mpg      9197 non-null float64\n",
      "log_popularity    9197 non-null float64\n",
      "log_price         9197 non-null float64\n",
      "ppp               9197 non-null float64\n",
      "mpg_ratio         9197 non-null float64\n",
      "mpg_per_hp        9197 non-null float64\n",
      "dtypes: float64(10), int64(8), object(7)\n",
      "memory usage: 1.8+ MB\n",
      "None\n"
     ]
    }
   ],
   "source": [
    "# Define function to inspect data frames. Prints first few lines, determines size/shape of data frame,\n",
    "# shows descriptive statistics, shows data types, shows missing or incomplete data, check for duplicate data.\n",
    "\n",
    "def inspect_df(df):\n",
    "    print('Header:')\n",
    "    print('{}'.format(df.head()))\n",
    "    print()\n",
    "    print('Shape: {}'.format(df.shape))\n",
    "    print()\n",
    "    print('Statistics:')\n",
    "    print('{}'.format(df.describe()))\n",
    "    print()\n",
    "    print('Info:')\n",
    "    print('{}'.format(df.info()))\n",
    "    \n",
    "# Use inspect_df on cars df\n",
    "inspect_df(cars)"
   ]
  },
  {
   "cell_type": "code",
   "execution_count": 4,
   "metadata": {},
   "outputs": [
    {
     "name": "stdout",
     "output_type": "stream",
     "text": [
      "<class 'pandas.core.frame.DataFrame'>\n",
      "RangeIndex: 9197 entries, 0 to 9196\n",
      "Data columns (total 18 columns):\n",
      "make          9197 non-null object\n",
      "model         9197 non-null object\n",
      "year          9197 non-null int64\n",
      "fuel          9197 non-null object\n",
      "hp            9197 non-null int64\n",
      "cylinders     9197 non-null int64\n",
      "trans         9197 non-null object\n",
      "drive         9197 non-null object\n",
      "doors         9197 non-null int64\n",
      "vsize         9197 non-null object\n",
      "body          9197 non-null object\n",
      "hwy_mpg       9197 non-null int64\n",
      "city_mpg      9197 non-null int64\n",
      "popularity    9197 non-null int64\n",
      "price         9197 non-null int64\n",
      "comb_mpg      9197 non-null float64\n",
      "mpg_ratio     9197 non-null float64\n",
      "mpg_per_hp    9197 non-null float64\n",
      "dtypes: float64(3), int64(8), object(7)\n",
      "memory usage: 1.3+ MB\n"
     ]
    }
   ],
   "source": [
    "# Drop unwanted columns (manufactured features for previous analysis)\n",
    "cars = cars.drop(columns = ['log_hp', 'log_hwy_mpg', 'log_city_mpg', 'log_comb_mpg', 'log_popularity', 'log_price', 'ppp'])\n",
    "cars.info()"
   ]
  },
  {
   "cell_type": "code",
   "execution_count": 5,
   "metadata": {},
   "outputs": [
    {
     "data": {
      "text/plain": [
       "['make', 'model', 'fuel', 'trans', 'drive', 'vsize', 'body']"
      ]
     },
     "execution_count": 5,
     "metadata": {},
     "output_type": "execute_result"
    }
   ],
   "source": [
    "# Make list of columns with type object\n",
    "objects = list(cars.select_dtypes(include=['object']).columns)\n",
    "objects"
   ]
  },
  {
   "cell_type": "code",
   "execution_count": 6,
   "metadata": {},
   "outputs": [
    {
     "data": {
      "text/plain": [
       "2    3674\n",
       "1    3538\n",
       "3    1985\n",
       "Name: vsize, dtype: int64"
      ]
     },
     "execution_count": 6,
     "metadata": {},
     "output_type": "execute_result"
    }
   ],
   "source": [
    "# Convert vsize column to ordinal encoding\n",
    "vsize_mapper = {'Compact':1, 'Midsize':2, 'Large':3}\n",
    "\n",
    "cars['vsize'] = cars['vsize'].replace(vsize_mapper)\n",
    "\n",
    "cars.vsize.value_counts()"
   ]
  },
  {
   "cell_type": "code",
   "execution_count": 7,
   "metadata": {},
   "outputs": [
    {
     "data": {
      "text/html": [
       "<div>\n",
       "<style scoped>\n",
       "    .dataframe tbody tr th:only-of-type {\n",
       "        vertical-align: middle;\n",
       "    }\n",
       "\n",
       "    .dataframe tbody tr th {\n",
       "        vertical-align: top;\n",
       "    }\n",
       "\n",
       "    .dataframe thead th {\n",
       "        text-align: right;\n",
       "    }\n",
       "</style>\n",
       "<table border=\"1\" class=\"dataframe\">\n",
       "  <thead>\n",
       "    <tr style=\"text-align: right;\">\n",
       "      <th></th>\n",
       "      <th>year</th>\n",
       "      <th>hp</th>\n",
       "      <th>cylinders</th>\n",
       "      <th>doors</th>\n",
       "      <th>vsize</th>\n",
       "      <th>hwy_mpg</th>\n",
       "      <th>city_mpg</th>\n",
       "      <th>popularity</th>\n",
       "      <th>price</th>\n",
       "      <th>comb_mpg</th>\n",
       "      <th>...</th>\n",
       "      <th>body_Convertible</th>\n",
       "      <th>body_Convertible SUV</th>\n",
       "      <th>body_Coupe</th>\n",
       "      <th>body_Crew Cab Pickup</th>\n",
       "      <th>body_Extended Cab Pickup</th>\n",
       "      <th>body_Passenger Minivan</th>\n",
       "      <th>body_Passenger Van</th>\n",
       "      <th>body_Regular Cab Pickup</th>\n",
       "      <th>body_Sedan</th>\n",
       "      <th>body_Wagon</th>\n",
       "    </tr>\n",
       "  </thead>\n",
       "  <tbody>\n",
       "    <tr>\n",
       "      <th>0</th>\n",
       "      <td>2011</td>\n",
       "      <td>335</td>\n",
       "      <td>6</td>\n",
       "      <td>2</td>\n",
       "      <td>1</td>\n",
       "      <td>26</td>\n",
       "      <td>19</td>\n",
       "      <td>3916</td>\n",
       "      <td>46135</td>\n",
       "      <td>22.5</td>\n",
       "      <td>...</td>\n",
       "      <td>0</td>\n",
       "      <td>0</td>\n",
       "      <td>1</td>\n",
       "      <td>0</td>\n",
       "      <td>0</td>\n",
       "      <td>0</td>\n",
       "      <td>0</td>\n",
       "      <td>0</td>\n",
       "      <td>0</td>\n",
       "      <td>0</td>\n",
       "    </tr>\n",
       "    <tr>\n",
       "      <th>1</th>\n",
       "      <td>2011</td>\n",
       "      <td>300</td>\n",
       "      <td>6</td>\n",
       "      <td>2</td>\n",
       "      <td>1</td>\n",
       "      <td>28</td>\n",
       "      <td>19</td>\n",
       "      <td>3916</td>\n",
       "      <td>40650</td>\n",
       "      <td>23.5</td>\n",
       "      <td>...</td>\n",
       "      <td>1</td>\n",
       "      <td>0</td>\n",
       "      <td>0</td>\n",
       "      <td>0</td>\n",
       "      <td>0</td>\n",
       "      <td>0</td>\n",
       "      <td>0</td>\n",
       "      <td>0</td>\n",
       "      <td>0</td>\n",
       "      <td>0</td>\n",
       "    </tr>\n",
       "    <tr>\n",
       "      <th>2</th>\n",
       "      <td>2011</td>\n",
       "      <td>300</td>\n",
       "      <td>6</td>\n",
       "      <td>2</td>\n",
       "      <td>1</td>\n",
       "      <td>28</td>\n",
       "      <td>20</td>\n",
       "      <td>3916</td>\n",
       "      <td>36350</td>\n",
       "      <td>24.0</td>\n",
       "      <td>...</td>\n",
       "      <td>0</td>\n",
       "      <td>0</td>\n",
       "      <td>1</td>\n",
       "      <td>0</td>\n",
       "      <td>0</td>\n",
       "      <td>0</td>\n",
       "      <td>0</td>\n",
       "      <td>0</td>\n",
       "      <td>0</td>\n",
       "      <td>0</td>\n",
       "    </tr>\n",
       "    <tr>\n",
       "      <th>3</th>\n",
       "      <td>2011</td>\n",
       "      <td>230</td>\n",
       "      <td>6</td>\n",
       "      <td>2</td>\n",
       "      <td>1</td>\n",
       "      <td>28</td>\n",
       "      <td>18</td>\n",
       "      <td>3916</td>\n",
       "      <td>29450</td>\n",
       "      <td>23.0</td>\n",
       "      <td>...</td>\n",
       "      <td>0</td>\n",
       "      <td>0</td>\n",
       "      <td>1</td>\n",
       "      <td>0</td>\n",
       "      <td>0</td>\n",
       "      <td>0</td>\n",
       "      <td>0</td>\n",
       "      <td>0</td>\n",
       "      <td>0</td>\n",
       "      <td>0</td>\n",
       "    </tr>\n",
       "    <tr>\n",
       "      <th>4</th>\n",
       "      <td>2011</td>\n",
       "      <td>230</td>\n",
       "      <td>6</td>\n",
       "      <td>2</td>\n",
       "      <td>1</td>\n",
       "      <td>28</td>\n",
       "      <td>18</td>\n",
       "      <td>3916</td>\n",
       "      <td>34500</td>\n",
       "      <td>23.0</td>\n",
       "      <td>...</td>\n",
       "      <td>1</td>\n",
       "      <td>0</td>\n",
       "      <td>0</td>\n",
       "      <td>0</td>\n",
       "      <td>0</td>\n",
       "      <td>0</td>\n",
       "      <td>0</td>\n",
       "      <td>0</td>\n",
       "      <td>0</td>\n",
       "      <td>0</td>\n",
       "    </tr>\n",
       "  </tbody>\n",
       "</table>\n",
       "<p>5 rows × 688 columns</p>\n",
       "</div>"
      ],
      "text/plain": [
       "   year   hp  cylinders  doors  vsize  hwy_mpg  city_mpg  popularity  price  \\\n",
       "0  2011  335          6      2      1       26        19        3916  46135   \n",
       "1  2011  300          6      2      1       28        19        3916  40650   \n",
       "2  2011  300          6      2      1       28        20        3916  36350   \n",
       "3  2011  230          6      2      1       28        18        3916  29450   \n",
       "4  2011  230          6      2      1       28        18        3916  34500   \n",
       "\n",
       "   comb_mpg  ...  body_Convertible  body_Convertible SUV  body_Coupe  \\\n",
       "0      22.5  ...                 0                     0           1   \n",
       "1      23.5  ...                 1                     0           0   \n",
       "2      24.0  ...                 0                     0           1   \n",
       "3      23.0  ...                 0                     0           1   \n",
       "4      23.0  ...                 1                     0           0   \n",
       "\n",
       "   body_Crew Cab Pickup  body_Extended Cab Pickup  body_Passenger Minivan  \\\n",
       "0                     0                         0                       0   \n",
       "1                     0                         0                       0   \n",
       "2                     0                         0                       0   \n",
       "3                     0                         0                       0   \n",
       "4                     0                         0                       0   \n",
       "\n",
       "   body_Passenger Van  body_Regular Cab Pickup  body_Sedan  body_Wagon  \n",
       "0                   0                        0           0           0  \n",
       "1                   0                        0           0           0  \n",
       "2                   0                        0           0           0  \n",
       "3                   0                        0           0           0  \n",
       "4                   0                        0           0           0  \n",
       "\n",
       "[5 rows x 688 columns]"
      ]
     },
     "execution_count": 7,
     "metadata": {},
     "output_type": "execute_result"
    }
   ],
   "source": [
    "# Use One Hot encoding to replace other object columns\n",
    "cars = pd.get_dummies(cars, columns=['make', 'model', 'fuel', 'trans', 'drive', 'body'],\n",
    "               prefix=['make', 'model', 'fuel', 'trans', 'drive', 'body'])\n",
    "\n",
    "cars.head()"
   ]
  },
  {
   "cell_type": "code",
   "execution_count": 8,
   "metadata": {},
   "outputs": [],
   "source": [
    "# Rearrange columns so price is first column\n",
    "cols = list(cars)\n",
    "cols.insert(0, cols.pop(cols.index('price')))\n",
    "cars = cars.loc[:, cols]"
   ]
  },
  {
   "cell_type": "code",
   "execution_count": 9,
   "metadata": {},
   "outputs": [],
   "source": [
    "# Split labels and features, then split train and test sets (20% reserved for testing)\n",
    "from sklearn import model_selection\n",
    "array = cars.values\n",
    "X = array[:,1:]\n",
    "Y = array[:,0]\n",
    "X_train, X_test, Y_train, Y_test = model_selection.train_test_split(X, Y, test_size=0.2, random_state=0)"
   ]
  },
  {
   "cell_type": "markdown",
   "metadata": {},
   "source": [
    "# Build Regression Model"
   ]
  },
  {
   "cell_type": "code",
   "execution_count": 10,
   "metadata": {},
   "outputs": [],
   "source": [
    "# Import ML models\n",
    "from sklearn.linear_model import LinearRegression\n",
    "from sklearn.linear_model import Ridge\n",
    "from sklearn.linear_model import Lasso\n",
    "from sklearn.linear_model import ElasticNet\n",
    "from sklearn.linear_model import SGDRegressor\n",
    "from sklearn.svm import LinearSVR\n",
    "from sklearn import metrics"
   ]
  },
  {
   "cell_type": "code",
   "execution_count": 11,
   "metadata": {},
   "outputs": [
    {
     "name": "stdout",
     "output_type": "stream",
     "text": [
      "Linear: -3012376878991.356445 (6021668537198.416992)\n",
      "Ridge: 0.920128 (0.019164)\n",
      "Lasso: 0.920815 (0.016796)\n",
      "ENet: 0.703104 (0.011496)\n",
      "SGD: -67862164670770539659264.000000 (95764115115548830859264.000000)\n",
      "SVR: 0.663518 (0.016567)\n"
     ]
    }
   ],
   "source": [
    "# Make list of Regression models to try, then use loop to test them\n",
    "models = []\n",
    "models.append(('Linear', LinearRegression()))\n",
    "models.append(('Ridge', Ridge()))\n",
    "models.append(('Lasso', Lasso(max_iter=10000)))\n",
    "models.append(('ENet', ElasticNet()))\n",
    "models.append(('SGD', SGDRegressor(max_iter=1000, tol=0.001)))\n",
    "models.append(('SVR', LinearSVR(max_iter=1000000)))\n",
    "\n",
    "results = []\n",
    "names = []\n",
    "\n",
    "for name, model in models:\n",
    "    kfold = model_selection.KFold(n_splits=5, random_state=0)\n",
    "    cv_results = model_selection.cross_val_score(model, X_train, Y_train, cv=kfold, scoring='r2')\n",
    "    msg = \"%s: %f (%f)\" % (name, cv_results.mean(), cv_results.std())\n",
    "    print(msg)"
   ]
  },
  {
   "cell_type": "code",
   "execution_count": 12,
   "metadata": {},
   "outputs": [],
   "source": [
    "# Scale data to range 0-1 with MinMaxScaler then split train and test\n",
    "from sklearn.preprocessing import MinMaxScaler\n",
    "scaler = MinMaxScaler()\n",
    "X_scaled = scaler.fit_transform(X)\n",
    "X_train, X_test, Y_train, Y_test = model_selection.train_test_split(X_scaled, Y, test_size=0.2, random_state=0)"
   ]
  },
  {
   "cell_type": "code",
   "execution_count": 13,
   "metadata": {},
   "outputs": [
    {
     "name": "stdout",
     "output_type": "stream",
     "text": [
      "Linear: -2956743032063867748352.000000 (5517588585807564767232.000000)\n",
      "Ridge: 0.929964 (0.002424)\n",
      "Lasso: 0.929754 (0.002052)\n",
      "ENet: 0.419442 (0.011645)\n",
      "SGD: 0.920971 (0.004640)\n",
      "SVR: -0.947042 (0.042046)\n"
     ]
    }
   ],
   "source": [
    "# Make list of Regression models to try, then use loop to test them\n",
    "models = []\n",
    "models.append(('Linear', LinearRegression()))\n",
    "models.append(('Ridge', Ridge()))\n",
    "models.append(('Lasso', Lasso(max_iter=10000)))\n",
    "models.append(('ENet', ElasticNet()))\n",
    "models.append(('SGD', SGDRegressor(max_iter=1000, tol=0.001)))\n",
    "models.append(('SVR', LinearSVR(max_iter=10000)))\n",
    "\n",
    "results = []\n",
    "names = []\n",
    "\n",
    "for name, model in models:\n",
    "    kfold = model_selection.KFold(n_splits=5, random_state=0)\n",
    "    cv_results = model_selection.cross_val_score(model, X_train, Y_train, cv=kfold, scoring='r2')\n",
    "    msg = \"%s: %f (%f)\" % (name, cv_results.mean(), cv_results.std())\n",
    "    print(msg)"
   ]
  },
  {
   "cell_type": "code",
   "execution_count": 14,
   "metadata": {},
   "outputs": [],
   "source": [
    "from sklearn.feature_selection import SelectPercentile, f_regression\n",
    "selector = SelectPercentile(f_regression, percentile=50)\n",
    "X_50 = selector.fit_transform(X,Y)\n",
    "X_train, X_test, Y_train, Y_test = model_selection.train_test_split(X_50, Y, test_size=0.2, random_state=0)"
   ]
  },
  {
   "cell_type": "code",
   "execution_count": 15,
   "metadata": {},
   "outputs": [
    {
     "name": "stdout",
     "output_type": "stream",
     "text": [
      "Linear: -31461405271257.617188 (62922810542517.015625)\n",
      "Ridge: 0.899819 (0.022660)\n",
      "Lasso: 0.902783 (0.021105)\n",
      "ENet: 0.702267 (0.011629)\n",
      "SGD: -12259184804468071858176.000000 (10022021587728739598336.000000)\n",
      "SVR: 0.662964 (0.016300)\n"
     ]
    }
   ],
   "source": [
    "# Make list of Regression models to try, then use loop to test them\n",
    "models = []\n",
    "models.append(('Linear', LinearRegression()))\n",
    "models.append(('Ridge', Ridge()))\n",
    "models.append(('Lasso', Lasso(max_iter=10000)))\n",
    "models.append(('ENet', ElasticNet()))\n",
    "models.append(('SGD', SGDRegressor(max_iter=1000, tol=0.001)))\n",
    "models.append(('SVR', LinearSVR(max_iter=1000000)))\n",
    "\n",
    "results = []\n",
    "names = []\n",
    "\n",
    "for name, model in models:\n",
    "    kfold = model_selection.KFold(n_splits=5, random_state=0)\n",
    "    cv_results = model_selection.cross_val_score(model, X_train, Y_train, cv=kfold, scoring='r2')\n",
    "    msg = \"%s: %f (%f)\" % (name, cv_results.mean(), cv_results.std())\n",
    "    print(msg)"
   ]
  },
  {
   "cell_type": "code",
   "execution_count": 16,
   "metadata": {},
   "outputs": [],
   "source": [
    "from sklearn.feature_selection import SelectPercentile, f_regression\n",
    "selector = SelectPercentile(f_regression, percentile=50)\n",
    "X_50 = selector.fit_transform(X_scaled,Y)\n",
    "X_train, X_test, Y_train, Y_test = model_selection.train_test_split(X_50, Y, test_size=0.2, random_state=0)"
   ]
  },
  {
   "cell_type": "code",
   "execution_count": 17,
   "metadata": {},
   "outputs": [
    {
     "name": "stdout",
     "output_type": "stream",
     "text": [
      "Linear: -801132840258313912320.000000 (1596720913636653006848.000000)\n",
      "Ridge: 0.911785 (0.003746)\n",
      "Lasso: 0.912215 (0.002978)\n",
      "ENet: 0.418579 (0.011642)\n"
     ]
    },
    {
     "name": "stderr",
     "output_type": "stream",
     "text": [
      "C:\\ProgramData\\Anaconda3\\lib\\site-packages\\sklearn\\linear_model\\stochastic_gradient.py:1229: ConvergenceWarning: Maximum number of iteration reached before convergence. Consider increasing max_iter to improve the fit.\n",
      "  ConvergenceWarning)\n"
     ]
    },
    {
     "name": "stdout",
     "output_type": "stream",
     "text": [
      "SGD: 0.901389 (0.004881)\n",
      "SVR: -1.163010 (0.037427)\n"
     ]
    }
   ],
   "source": [
    "# Make list of Regression models to try, then use loop to test them\n",
    "models = []\n",
    "models.append(('Linear', LinearRegression()))\n",
    "models.append(('Ridge', Ridge()))\n",
    "models.append(('Lasso', Lasso(max_iter=10000)))\n",
    "models.append(('ENet', ElasticNet()))\n",
    "models.append(('SGD', SGDRegressor(max_iter=1000, tol=0.001)))\n",
    "models.append(('SVR', LinearSVR(max_iter=10000)))\n",
    "\n",
    "results = []\n",
    "names = []\n",
    "\n",
    "for name, model in models:\n",
    "    kfold = model_selection.KFold(n_splits=5, random_state=0)\n",
    "    cv_results = model_selection.cross_val_score(model, X_train, Y_train, cv=kfold, scoring='r2')\n",
    "    msg = \"%s: %f (%f)\" % (name, cv_results.mean(), cv_results.std())\n",
    "    print(msg)"
   ]
  },
  {
   "cell_type": "code",
   "execution_count": 18,
   "metadata": {},
   "outputs": [],
   "source": [
    "from sklearn.decomposition import PCA\n",
    "pca = PCA(n_components=100)\n",
    "X_pca = pca.fit_transform(X_scaled)\n",
    "X_train, X_test, Y_train, Y_test = model_selection.train_test_split(X_pca, Y, test_size=0.2, random_state=0)"
   ]
  },
  {
   "cell_type": "code",
   "execution_count": 19,
   "metadata": {},
   "outputs": [
    {
     "name": "stdout",
     "output_type": "stream",
     "text": [
      "Linear: 0.838785 (0.003232)\n",
      "Ridge: 0.838804 (0.003186)\n",
      "Lasso: 0.838778 (0.003194)\n",
      "ENet: 0.418981 (0.011653)\n",
      "SGD: 0.838683 (0.003305)\n",
      "SVR: -4.800288 (0.081802)\n"
     ]
    }
   ],
   "source": [
    "# Make list of Regression models to try, then use loop to test them\n",
    "models = []\n",
    "models.append(('Linear', LinearRegression()))\n",
    "models.append(('Ridge', Ridge()))\n",
    "models.append(('Lasso', Lasso(max_iter=10000)))\n",
    "models.append(('ENet', ElasticNet()))\n",
    "models.append(('SGD', SGDRegressor(max_iter=1000, tol=0.001)))\n",
    "models.append(('SVR', LinearSVR(max_iter=10000)))\n",
    "\n",
    "results = []\n",
    "names = []\n",
    "\n",
    "for name, model in models:\n",
    "    kfold = model_selection.KFold(n_splits=5, random_state=0)\n",
    "    cv_results = model_selection.cross_val_score(model, X_train, Y_train, cv=kfold, scoring='r2')\n",
    "    msg = \"%s: %f (%f)\" % (name, cv_results.mean(), cv_results.std())\n",
    "    print(msg)"
   ]
  },
  {
   "cell_type": "markdown",
   "metadata": {},
   "source": [
    "Obtained best results so far with scaled features and no dimensionality reduction. Best results from Ridge, Lasso, and SGD."
   ]
  },
  {
   "cell_type": "code",
   "execution_count": 20,
   "metadata": {},
   "outputs": [],
   "source": [
    "# Scale data to range 0-1 with MinMaxScaler then split train and test\n",
    "from sklearn.preprocessing import MinMaxScaler\n",
    "scaler = MinMaxScaler()\n",
    "X_scaled = scaler.fit_transform(X)\n",
    "X_train, X_test, Y_train, Y_test = model_selection.train_test_split(X_scaled, Y, test_size=0.2, random_state=0)"
   ]
  },
  {
   "cell_type": "code",
   "execution_count": 21,
   "metadata": {},
   "outputs": [
    {
     "name": "stdout",
     "output_type": "stream",
     "text": [
      "Ridge: 0.9354618869524685\n",
      "Lasso: 0.9333913113477414\n",
      "SGD: 0.9233876853697575\n"
     ]
    }
   ],
   "source": [
    "# Test 3 best models on test data\n",
    "from sklearn.metrics import r2_score\n",
    "\n",
    "models = []\n",
    "models.append(('Ridge', Ridge()))\n",
    "models.append(('Lasso', Lasso(max_iter=10000)))\n",
    "models.append(('SGD', SGDRegressor(max_iter=1000, tol=0.001)))\n",
    "\n",
    "for name, model in models:\n",
    "    clf = model\n",
    "    clf.fit(X_train, Y_train)\n",
    "    pred = clf.predict(X_test)\n",
    "    r2 = r2_score(Y_test, pred)\n",
    "    msg = \"%s: %s\" % (name, r2)\n",
    "    print(msg)"
   ]
  },
  {
   "cell_type": "markdown",
   "metadata": {},
   "source": [
    "Ridge and Lasso give best performance, use GridSearchCV to tune hyperparameters for these two models."
   ]
  },
  {
   "cell_type": "code",
   "execution_count": 22,
   "metadata": {},
   "outputs": [
    {
     "name": "stdout",
     "output_type": "stream",
     "text": [
      "Best Parameters: {'alpha': 0.1, 'solver': 'lsqr'}\n",
      "R2: 0.9380702637464594\n"
     ]
    }
   ],
   "source": [
    "# Use GridSearchCV to tune hyperparameters, make classifier with best params and test on test data\n",
    "from sklearn.model_selection import GridSearchCV\n",
    "params = {'alpha' : (np.arange(0.1, 1, 0.1)), 'solver' : ('auto', 'svd', 'cholesky', 'lsqr', 'sparse_cg', 'sag', 'saga')}\n",
    "alg = Ridge(random_state=0)\n",
    "clf = GridSearchCV(alg, params, cv = 5, scoring = 'r2', n_jobs = -1)\n",
    "clf.fit(X_train, Y_train)\n",
    "print(\"Best Parameters:\", clf.best_params_)\n",
    "pred = clf.predict(X_test)\n",
    "print(\"R2:\", r2_score(Y_test, pred))"
   ]
  },
  {
   "cell_type": "code",
   "execution_count": 23,
   "metadata": {},
   "outputs": [
    {
     "name": "stdout",
     "output_type": "stream",
     "text": [
      "Best Parameters: {'alpha': 0.6}\n",
      "R2: 0.9361679033984465\n"
     ]
    }
   ],
   "source": [
    "# Use GridSearchCV to tune hyperparameters, make classifier with best params and test on test data\n",
    "params = {'alpha' : (np.arange(0.1, 2, 0.1))}\n",
    "alg = Lasso(random_state=0, max_iter=10000)\n",
    "clf = GridSearchCV(alg, params, cv = 5, scoring = 'r2', n_jobs = -1)\n",
    "clf.fit(X_train, Y_train)\n",
    "print(\"Best Parameters:\", clf.best_params_)\n",
    "pred = clf.predict(X_test)\n",
    "print(\"R2:\", r2_score(Y_test, pred))"
   ]
  },
  {
   "cell_type": "markdown",
   "metadata": {},
   "source": [
    "After tuning hyperparameters, obtained best results with min/max scaled features, no dimensionality reduction, and Ridge Regression. The optimal parameters for the Ridge Regression are alpha = 0.1, solver = lsqr, and the rest defaults."
   ]
  },
  {
   "cell_type": "markdown",
   "metadata": {},
   "source": [
    "# Final Model"
   ]
  },
  {
   "cell_type": "code",
   "execution_count": 24,
   "metadata": {},
   "outputs": [],
   "source": [
    "# Make array of data, split into features and labels, split into train and test sets (20% reserved for testing)\n",
    "array = cars.values\n",
    "X = array[:,1:]\n",
    "Y = array[:,0]\n",
    "X_train, X_test, Y_train, Y_test = model_selection.train_test_split(X, Y, test_size=0.2, random_state=0)"
   ]
  },
  {
   "cell_type": "code",
   "execution_count": 25,
   "metadata": {},
   "outputs": [],
   "source": [
    "# Use pipeline to combine scaler and regression model\n",
    "from sklearn.pipeline import Pipeline\n",
    "scaler = MinMaxScaler()\n",
    "reg = Ridge(alpha = 0.1, solver = 'lsqr')\n",
    "scale_ridge = Pipeline([('scaler', scaler), ('ridge', reg)])\n",
    "scale_ridge = scale_ridge.fit(X_train, Y_train)"
   ]
  },
  {
   "cell_type": "code",
   "execution_count": 26,
   "metadata": {},
   "outputs": [
    {
     "name": "stdout",
     "output_type": "stream",
     "text": [
      "R2 Score: 0.9379168297253947\n"
     ]
    }
   ],
   "source": [
    "# Test on testing set and evaluate performance\n",
    "print('R2 Score:', scale_ridge.score(X_test, Y_test))"
   ]
  },
  {
   "cell_type": "markdown",
   "metadata": {},
   "source": [
    "The final model consists of a MinMaxScaler coupled with a Ridge Regression with alpha = 0.1, solver = lsqr, and defaults for other hyperparameters. This model gives an R2 score of 0.9379 when testing on the reserved test data set."
   ]
  },
  {
   "cell_type": "code",
   "execution_count": 28,
   "metadata": {},
   "outputs": [],
   "source": [
    "# Save dataset and regression model as pickles\n",
    "import pickle\n",
    "cars.to_pickle('cars_ML_dataset.pkl')\n",
    "pickle.dump(scale_ridge, open('cars_ML_model.pkl', 'wb'))"
   ]
  }
 ],
 "metadata": {
  "kernelspec": {
   "display_name": "Python 3",
   "language": "python",
   "name": "python3"
  },
  "language_info": {
   "codemirror_mode": {
    "name": "ipython",
    "version": 3
   },
   "file_extension": ".py",
   "mimetype": "text/x-python",
   "name": "python",
   "nbconvert_exporter": "python",
   "pygments_lexer": "ipython3",
   "version": "3.7.3"
  }
 },
 "nbformat": 4,
 "nbformat_minor": 2
}
